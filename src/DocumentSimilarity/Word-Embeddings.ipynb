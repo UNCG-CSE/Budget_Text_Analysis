{
 "cells": [
  {
   "cell_type": "markdown",
   "metadata": {},
   "source": [
    "# Word-Embeddings"
   ]
  },
  {
   "cell_type": "markdown",
   "metadata": {},
   "source": [
    "Credit to --> [Yuriy Guts](https://github.com/YuriyGuts) "
   ]
  },
  {
   "cell_type": "markdown",
   "metadata": {},
   "source": [
    "## Imports"
   ]
  },
  {
   "cell_type": "code",
   "execution_count": 1,
   "metadata": {},
   "outputs": [],
   "source": [
    "from __future__ import absolute_import, division, print_function"
   ]
  },
  {
   "cell_type": "code",
   "execution_count": 2,
   "metadata": {},
   "outputs": [],
   "source": [
    "import codecs\n",
    "import glob\n",
    "import logging\n",
    "import multiprocessing\n",
    "import os\n",
    "import pprint\n",
    "import re"
   ]
  },
  {
   "cell_type": "code",
   "execution_count": 3,
   "metadata": {},
   "outputs": [],
   "source": [
    "import nltk\n",
    "import gensim.models.word2vec as w2v\n",
    "import sklearn.manifold\n",
    "import numpy as np\n",
    "import matplotlib.pyplot as plt\n",
    "import pandas as pd\n",
    "import seaborn as sns"
   ]
  },
  {
   "cell_type": "code",
   "execution_count": 4,
   "metadata": {},
   "outputs": [
    {
     "name": "stdout",
     "output_type": "stream",
     "text": [
      "Populating the interactive namespace from numpy and matplotlib\n"
     ]
    }
   ],
   "source": [
    "%pylab inline"
   ]
  },
  {
   "cell_type": "markdown",
   "metadata": {},
   "source": [
    "**Set up logging**"
   ]
  },
  {
   "cell_type": "code",
   "execution_count": 5,
   "metadata": {},
   "outputs": [],
   "source": [
    "logging.basicConfig(format='%(asctime)s : %(levelname)s : %(message)s', level=logging.INFO)"
   ]
  },
  {
   "cell_type": "markdown",
   "metadata": {
    "collapsed": true
   },
   "source": [
    "**Download NLTK tokenizer models (only the first time)**"
   ]
  },
  {
   "cell_type": "code",
   "execution_count": 6,
   "metadata": {},
   "outputs": [
    {
     "name": "stderr",
     "output_type": "stream",
     "text": [
      "[nltk_data] Downloading package punkt to\n",
      "[nltk_data]     C:\\Users\\Sultan\\AppData\\Roaming\\nltk_data...\n",
      "[nltk_data]   Package punkt is already up-to-date!\n"
     ]
    },
    {
     "data": {
      "text/plain": [
       "True"
      ]
     },
     "execution_count": 6,
     "metadata": {},
     "output_type": "execute_result"
    }
   ],
   "source": [
    "nltk.download(\"punkt\")"
   ]
  },
  {
   "cell_type": "markdown",
   "metadata": {},
   "source": [
    "## Prepare Corpus"
   ]
  },
  {
   "cell_type": "code",
   "execution_count": 7,
   "metadata": {},
   "outputs": [],
   "source": [
    "# change the current directory to read the data\n",
    "os.chdir(r\"C:\\Users\\Sultan\\Desktop\\data\\PreprocessedData\") "
   ]
  },
  {
   "cell_type": "code",
   "execution_count": 8,
   "metadata": {},
   "outputs": [],
   "source": [
    "df = pd.read_csv('CombinedData.csv', engine='python')"
   ]
  },
  {
   "cell_type": "code",
   "execution_count": 9,
   "metadata": {},
   "outputs": [
    {
     "data": {
      "text/html": [
       "<div>\n",
       "<style scoped>\n",
       "    .dataframe tbody tr th:only-of-type {\n",
       "        vertical-align: middle;\n",
       "    }\n",
       "\n",
       "    .dataframe tbody tr th {\n",
       "        vertical-align: top;\n",
       "    }\n",
       "\n",
       "    .dataframe thead th {\n",
       "        text-align: right;\n",
       "    }\n",
       "</style>\n",
       "<table border=\"1\" class=\"dataframe\">\n",
       "  <thead>\n",
       "    <tr style=\"text-align: right;\">\n",
       "      <th></th>\n",
       "      <th>ï»¿word</th>\n",
       "      <th>organization</th>\n",
       "      <th>year</th>\n",
       "    </tr>\n",
       "  </thead>\n",
       "  <tbody>\n",
       "    <tr>\n",
       "      <td>0</td>\n",
       "      <td>fiscal</td>\n",
       "      <td>Guilford County</td>\n",
       "      <td>FY2013</td>\n",
       "    </tr>\n",
       "    <tr>\n",
       "      <td>1</td>\n",
       "      <td>year</td>\n",
       "      <td>Guilford County</td>\n",
       "      <td>FY2013</td>\n",
       "    </tr>\n",
       "    <tr>\n",
       "      <td>2</td>\n",
       "      <td>adopted</td>\n",
       "      <td>Guilford County</td>\n",
       "      <td>FY2013</td>\n",
       "    </tr>\n",
       "    <tr>\n",
       "      <td>3</td>\n",
       "      <td>budget</td>\n",
       "      <td>Guilford County</td>\n",
       "      <td>FY2013</td>\n",
       "    </tr>\n",
       "    <tr>\n",
       "      <td>4</td>\n",
       "      <td>brenda</td>\n",
       "      <td>Guilford County</td>\n",
       "      <td>FY2013</td>\n",
       "    </tr>\n",
       "  </tbody>\n",
       "</table>\n",
       "</div>"
      ],
      "text/plain": [
       "   ï»¿word     organization    year\n",
       "0   fiscal  Guilford County  FY2013\n",
       "1     year  Guilford County  FY2013\n",
       "2  adopted  Guilford County  FY2013\n",
       "3   budget  Guilford County  FY2013\n",
       "4   brenda  Guilford County  FY2013"
      ]
     },
     "execution_count": 9,
     "metadata": {},
     "output_type": "execute_result"
    }
   ],
   "source": [
    "df.head()"
   ]
  },
  {
   "cell_type": "code",
   "execution_count": 10,
   "metadata": {},
   "outputs": [
    {
     "data": {
      "text/html": [
       "<div>\n",
       "<style scoped>\n",
       "    .dataframe tbody tr th:only-of-type {\n",
       "        vertical-align: middle;\n",
       "    }\n",
       "\n",
       "    .dataframe tbody tr th {\n",
       "        vertical-align: top;\n",
       "    }\n",
       "\n",
       "    .dataframe thead th {\n",
       "        text-align: right;\n",
       "    }\n",
       "</style>\n",
       "<table border=\"1\" class=\"dataframe\">\n",
       "  <thead>\n",
       "    <tr style=\"text-align: right;\">\n",
       "      <th></th>\n",
       "      <th>word</th>\n",
       "      <th>organization</th>\n",
       "      <th>year</th>\n",
       "    </tr>\n",
       "  </thead>\n",
       "  <tbody>\n",
       "    <tr>\n",
       "      <td>0</td>\n",
       "      <td>fiscal</td>\n",
       "      <td>Guilford County</td>\n",
       "      <td>FY2013</td>\n",
       "    </tr>\n",
       "    <tr>\n",
       "      <td>1</td>\n",
       "      <td>year</td>\n",
       "      <td>Guilford County</td>\n",
       "      <td>FY2013</td>\n",
       "    </tr>\n",
       "    <tr>\n",
       "      <td>2</td>\n",
       "      <td>adopted</td>\n",
       "      <td>Guilford County</td>\n",
       "      <td>FY2013</td>\n",
       "    </tr>\n",
       "    <tr>\n",
       "      <td>3</td>\n",
       "      <td>budget</td>\n",
       "      <td>Guilford County</td>\n",
       "      <td>FY2013</td>\n",
       "    </tr>\n",
       "    <tr>\n",
       "      <td>4</td>\n",
       "      <td>brenda</td>\n",
       "      <td>Guilford County</td>\n",
       "      <td>FY2013</td>\n",
       "    </tr>\n",
       "  </tbody>\n",
       "</table>\n",
       "</div>"
      ],
      "text/plain": [
       "      word     organization    year\n",
       "0   fiscal  Guilford County  FY2013\n",
       "1     year  Guilford County  FY2013\n",
       "2  adopted  Guilford County  FY2013\n",
       "3   budget  Guilford County  FY2013\n",
       "4   brenda  Guilford County  FY2013"
      ]
     },
     "execution_count": 10,
     "metadata": {},
     "output_type": "execute_result"
    }
   ],
   "source": [
    "# Rename col 0\n",
    "df.columns = ['word','organization','year']\n",
    "df.head()"
   ]
  },
  {
   "cell_type": "code",
   "execution_count": 11,
   "metadata": {},
   "outputs": [],
   "source": [
    "corpus = df.word\n",
    "# Join the elements and sperate them by a single space\n",
    "corpus = ' '.join(word for word in corpus)"
   ]
  },
  {
   "cell_type": "code",
   "execution_count": 12,
   "metadata": {},
   "outputs": [
    {
     "data": {
      "text/plain": [
       "'fiscal year adopted budget brenda jones county manager sharisse fuller assistant county managerhuman resources director prepared office budget management evaluation michael halford budget director'"
      ]
     },
     "execution_count": 12,
     "metadata": {},
     "output_type": "execute_result"
    }
   ],
   "source": [
    "corpus[:196]"
   ]
  },
  {
   "cell_type": "code",
   "execution_count": 13,
   "metadata": {},
   "outputs": [],
   "source": [
    "# change the current directory to read the data\n",
    "os.chdir(r\"C:\\Users\\Sultan\\Desktop\\data\\PreprocessedData\\TextFiles\") \n",
    "\n",
    "# Creating a text file\n",
    "text_data = open(\"CombinedData.txt\",\"a\") \n",
    "\n",
    "# Writing the string to the file\n",
    "text_data.write(corpus)\n",
    "\n",
    "# Closing the file\n",
    "text_data.close() "
   ]
  },
  {
   "cell_type": "markdown",
   "metadata": {},
   "source": [
    "**Load files**"
   ]
  },
  {
   "cell_type": "code",
   "execution_count": 14,
   "metadata": {},
   "outputs": [],
   "source": [
    "bgt_filename = \"CombinedData.txt\""
   ]
  },
  {
   "cell_type": "code",
   "execution_count": 15,
   "metadata": {},
   "outputs": [
    {
     "name": "stdout",
     "output_type": "stream",
     "text": [
      "Reading 'CombinedData.txt'...\n",
      "Corpus is now 160758576 characters long\n",
      "\n"
     ]
    }
   ],
   "source": [
    "corpus_raw = u\"\"\n",
    "print(\"Reading '{0}'...\".format(bgt_filename))\n",
    "with codecs.open(bgt_filename, \"r\", \"utf-8\") as book_file:\n",
    "    corpus_raw += book_file.read()\n",
    "    print(\"Corpus is now {0} characters long\".format(len(corpus_raw)))\n",
    "    print()"
   ]
  },
  {
   "cell_type": "markdown",
   "metadata": {},
   "source": [
    "**Split the corpus into sentences**"
   ]
  },
  {
   "cell_type": "code",
   "execution_count": 16,
   "metadata": {},
   "outputs": [],
   "source": [
    "tokenizer = nltk.data.load('tokenizers/punkt/english.pickle')"
   ]
  },
  {
   "cell_type": "code",
   "execution_count": 17,
   "metadata": {},
   "outputs": [],
   "source": [
    "raw_sentences = tokenizer.tokenize(corpus_raw)"
   ]
  },
  {
   "cell_type": "code",
   "execution_count": 18,
   "metadata": {},
   "outputs": [],
   "source": [
    "def sentence_to_wordlist(raw):\n",
    "    clean = re.sub(\"[^a-zA-Z]\",\" \", raw)\n",
    "    words = clean.split()\n",
    "    return words"
   ]
  },
  {
   "cell_type": "code",
   "execution_count": 19,
   "metadata": {},
   "outputs": [],
   "source": [
    "sentences = []\n",
    "for raw_sentence in raw_sentences:\n",
    "    if len(raw_sentence) > 0:\n",
    "        sentences.append(sentence_to_wordlist(raw_sentence))"
   ]
  },
  {
   "cell_type": "code",
   "execution_count": 20,
   "metadata": {},
   "outputs": [
    {
     "name": "stdout",
     "output_type": "stream",
     "text": [
      "corpus contains 19,106,515 tokens\n"
     ]
    }
   ],
   "source": [
    "token_count = sum([len(sentence) for sentence in sentences])\n",
    "print(\"corpus contains {0:,} tokens\".format(token_count))"
   ]
  },
  {
   "cell_type": "markdown",
   "metadata": {},
   "source": [
    "## Train Word2Vec"
   ]
  },
  {
   "cell_type": "code",
   "execution_count": 21,
   "metadata": {},
   "outputs": [],
   "source": [
    "# Dimensionality of the resulting word vectors.\n",
    "num_features = 300\n",
    "\n",
    "# Minimum word count threshold.\n",
    "min_word_count = 3\n",
    "\n",
    "# Number of threads to run in parallel.\n",
    "num_workers = multiprocessing.cpu_count()\n",
    "\n",
    "# Context window length.\n",
    "context_size = 7\n",
    "\n",
    "# Downsample setting for frequent words.\n",
    "downsampling = 1e-3\n",
    "\n",
    "# Seed for the RNG, to make the results reproducible.\n",
    "seed = 1"
   ]
  },
  {
   "cell_type": "code",
   "execution_count": 22,
   "metadata": {},
   "outputs": [],
   "source": [
    "bgt2vec = w2v.Word2Vec(\n",
    "    sg=1,\n",
    "    seed=seed,\n",
    "    workers=num_workers,\n",
    "    size=num_features,\n",
    "    min_count=min_word_count,\n",
    "    window=context_size,\n",
    "    sample=downsampling\n",
    "    \n",
    ")"
   ]
  },
  {
   "cell_type": "code",
   "execution_count": 23,
   "metadata": {},
   "outputs": [
    {
     "name": "stderr",
     "output_type": "stream",
     "text": [
      "2019-12-11 11:09:21,326 : INFO : collecting all words and their counts\n",
      "2019-12-11 11:09:21,364 : INFO : PROGRESS: at sentence #0, processed 0 words, keeping 0 word types\n",
      "2019-12-11 11:09:29,884 : INFO : collected 34079 word types from a corpus of 19106515 raw words and 1 sentences\n",
      "2019-12-11 11:09:29,930 : INFO : Loading a fresh vocabulary\n",
      "2019-12-11 11:09:31,864 : INFO : effective_min_count=3 retains 34079 unique words (100% of original 34079, drops 0)\n",
      "2019-12-11 11:09:31,864 : INFO : effective_min_count=3 leaves 19106515 word corpus (100% of original 19106515, drops 0)\n",
      "2019-12-11 11:09:32,199 : INFO : deleting the raw counts dictionary of 34079 items\n",
      "2019-12-11 11:09:32,214 : INFO : sample=0.001 downsamples 42 most-common words\n",
      "2019-12-11 11:09:32,228 : INFO : downsampling leaves estimated 17528938 word corpus (91.7% of prior 19106515)\n",
      "2019-12-11 11:09:32,499 : INFO : estimated required memory for 34079 words and 300 dimensions: 98829100 bytes\n",
      "2019-12-11 11:09:32,499 : INFO : resetting layer weights\n"
     ]
    }
   ],
   "source": [
    "bgt2vec.build_vocab(sentences)"
   ]
  },
  {
   "cell_type": "code",
   "execution_count": 24,
   "metadata": {
    "scrolled": true
   },
   "outputs": [
    {
     "name": "stdout",
     "output_type": "stream",
     "text": [
      "Word2Vec vocabulary length: 34079\n"
     ]
    }
   ],
   "source": [
    "print(\"Word2Vec vocabulary length:\", len(bgt2vec.wv.vocab))"
   ]
  },
  {
   "cell_type": "markdown",
   "metadata": {},
   "source": [
    "**Start training**"
   ]
  },
  {
   "cell_type": "code",
   "execution_count": 25,
   "metadata": {},
   "outputs": [
    {
     "name": "stderr",
     "output_type": "stream",
     "text": [
      "2019-12-11 11:09:34,386 : INFO : training model with 3 workers on 34079 vocabulary and 300 features, using sg=1 hs=0 sample=0.001 negative=5 window=7\n",
      "2019-12-11 11:09:34,836 : INFO : worker thread finished; awaiting finish of 2 more threads\n",
      "2019-12-11 11:09:34,852 : INFO : worker thread finished; awaiting finish of 1 more threads\n",
      "2019-12-11 11:09:35,590 : INFO : worker thread finished; awaiting finish of 0 more threads\n",
      "2019-12-11 11:09:35,590 : INFO : EPOCH - 1 : training on 19106515 raw words (10000 effective words) took 0.8s, 12621 effective words/s\n",
      "2019-12-11 11:09:35,624 : INFO : worker thread finished; awaiting finish of 2 more threads\n",
      "2019-12-11 11:09:35,624 : INFO : worker thread finished; awaiting finish of 1 more threads\n",
      "2019-12-11 11:09:36,255 : INFO : worker thread finished; awaiting finish of 0 more threads\n",
      "2019-12-11 11:09:36,255 : INFO : EPOCH - 2 : training on 19106515 raw words (10000 effective words) took 0.6s, 15622 effective words/s\n",
      "2019-12-11 11:09:36,270 : INFO : worker thread finished; awaiting finish of 2 more threads\n",
      "2019-12-11 11:09:36,270 : INFO : worker thread finished; awaiting finish of 1 more threads\n",
      "2019-12-11 11:09:36,738 : INFO : worker thread finished; awaiting finish of 0 more threads\n",
      "2019-12-11 11:09:36,738 : INFO : EPOCH - 3 : training on 19106515 raw words (10000 effective words) took 0.5s, 20950 effective words/s\n",
      "2019-12-11 11:09:36,754 : INFO : worker thread finished; awaiting finish of 2 more threads\n",
      "2019-12-11 11:09:36,754 : INFO : worker thread finished; awaiting finish of 1 more threads\n",
      "2019-12-11 11:09:37,216 : INFO : worker thread finished; awaiting finish of 0 more threads\n",
      "2019-12-11 11:09:37,231 : INFO : EPOCH - 4 : training on 19106515 raw words (10000 effective words) took 0.5s, 20732 effective words/s\n",
      "2019-12-11 11:09:37,240 : INFO : worker thread finished; awaiting finish of 2 more threads\n",
      "2019-12-11 11:09:37,240 : INFO : worker thread finished; awaiting finish of 1 more threads\n",
      "2019-12-11 11:09:37,795 : INFO : worker thread finished; awaiting finish of 0 more threads\n",
      "2019-12-11 11:09:37,810 : INFO : EPOCH - 5 : training on 19106515 raw words (10000 effective words) took 0.6s, 17508 effective words/s\n",
      "2019-12-11 11:09:37,817 : INFO : worker thread finished; awaiting finish of 2 more threads\n",
      "2019-12-11 11:09:37,817 : INFO : worker thread finished; awaiting finish of 1 more threads\n",
      "2019-12-11 11:09:38,305 : INFO : worker thread finished; awaiting finish of 0 more threads\n",
      "2019-12-11 11:09:38,309 : INFO : EPOCH - 6 : training on 19106515 raw words (10000 effective words) took 0.5s, 20332 effective words/s\n",
      "2019-12-11 11:09:38,329 : INFO : worker thread finished; awaiting finish of 2 more threads\n",
      "2019-12-11 11:09:38,337 : INFO : worker thread finished; awaiting finish of 1 more threads\n",
      "2019-12-11 11:09:38,853 : INFO : worker thread finished; awaiting finish of 0 more threads\n",
      "2019-12-11 11:09:38,853 : INFO : EPOCH - 7 : training on 19106515 raw words (10000 effective words) took 0.5s, 18792 effective words/s\n",
      "2019-12-11 11:09:38,868 : INFO : worker thread finished; awaiting finish of 2 more threads\n",
      "2019-12-11 11:09:38,868 : INFO : worker thread finished; awaiting finish of 1 more threads\n",
      "2019-12-11 11:09:39,319 : INFO : worker thread finished; awaiting finish of 0 more threads\n",
      "2019-12-11 11:09:39,322 : INFO : EPOCH - 8 : training on 19106515 raw words (10000 effective words) took 0.5s, 21857 effective words/s\n",
      "2019-12-11 11:09:39,338 : INFO : worker thread finished; awaiting finish of 2 more threads\n",
      "2019-12-11 11:09:39,343 : INFO : worker thread finished; awaiting finish of 1 more threads\n",
      "2019-12-11 11:09:39,798 : INFO : worker thread finished; awaiting finish of 0 more threads\n",
      "2019-12-11 11:09:39,798 : INFO : EPOCH - 9 : training on 19106515 raw words (10000 effective words) took 0.5s, 20972 effective words/s\n",
      "2019-12-11 11:09:39,813 : INFO : worker thread finished; awaiting finish of 2 more threads\n",
      "2019-12-11 11:09:39,813 : INFO : worker thread finished; awaiting finish of 1 more threads\n",
      "2019-12-11 11:09:40,378 : INFO : worker thread finished; awaiting finish of 0 more threads\n",
      "2019-12-11 11:09:40,378 : INFO : EPOCH - 10 : training on 19106515 raw words (10000 effective words) took 0.6s, 17647 effective words/s\n",
      "2019-12-11 11:09:40,394 : INFO : worker thread finished; awaiting finish of 2 more threads\n",
      "2019-12-11 11:09:40,394 : INFO : worker thread finished; awaiting finish of 1 more threads\n",
      "2019-12-11 11:09:40,845 : INFO : worker thread finished; awaiting finish of 0 more threads\n",
      "2019-12-11 11:09:40,853 : INFO : EPOCH - 11 : training on 19106515 raw words (10000 effective words) took 0.5s, 21583 effective words/s\n",
      "2019-12-11 11:09:40,863 : INFO : worker thread finished; awaiting finish of 2 more threads\n",
      "2019-12-11 11:09:40,863 : INFO : worker thread finished; awaiting finish of 1 more threads\n",
      "2019-12-11 11:09:41,327 : INFO : worker thread finished; awaiting finish of 0 more threads\n",
      "2019-12-11 11:09:41,327 : INFO : EPOCH - 12 : training on 19106515 raw words (10000 effective words) took 0.5s, 21270 effective words/s\n",
      "2019-12-11 11:09:41,339 : INFO : worker thread finished; awaiting finish of 2 more threads\n",
      "2019-12-11 11:09:41,339 : INFO : worker thread finished; awaiting finish of 1 more threads\n",
      "2019-12-11 11:09:41,797 : INFO : worker thread finished; awaiting finish of 0 more threads\n",
      "2019-12-11 11:09:41,797 : INFO : EPOCH - 13 : training on 19106515 raw words (10000 effective words) took 0.5s, 21318 effective words/s\n",
      "2019-12-11 11:09:41,813 : INFO : worker thread finished; awaiting finish of 2 more threads\n",
      "2019-12-11 11:09:41,813 : INFO : worker thread finished; awaiting finish of 1 more threads\n",
      "2019-12-11 11:09:42,255 : INFO : worker thread finished; awaiting finish of 0 more threads\n",
      "2019-12-11 11:09:42,255 : INFO : EPOCH - 14 : training on 19106515 raw words (10000 effective words) took 0.4s, 22533 effective words/s\n",
      "2019-12-11 11:09:42,273 : INFO : worker thread finished; awaiting finish of 2 more threads\n",
      "2019-12-11 11:09:42,273 : INFO : worker thread finished; awaiting finish of 1 more threads\n",
      "2019-12-11 11:09:42,706 : INFO : worker thread finished; awaiting finish of 0 more threads\n",
      "2019-12-11 11:09:42,706 : INFO : EPOCH - 15 : training on 19106515 raw words (10000 effective words) took 0.4s, 22662 effective words/s\n",
      "2019-12-11 11:09:42,722 : INFO : worker thread finished; awaiting finish of 2 more threads\n",
      "2019-12-11 11:09:42,737 : INFO : worker thread finished; awaiting finish of 1 more threads\n",
      "2019-12-11 11:09:43,152 : INFO : worker thread finished; awaiting finish of 0 more threads\n",
      "2019-12-11 11:09:43,160 : INFO : EPOCH - 16 : training on 19106515 raw words (10000 effective words) took 0.4s, 22726 effective words/s\n",
      "2019-12-11 11:09:43,170 : INFO : worker thread finished; awaiting finish of 2 more threads\n",
      "2019-12-11 11:09:43,186 : INFO : worker thread finished; awaiting finish of 1 more threads\n",
      "2019-12-11 11:09:43,614 : INFO : worker thread finished; awaiting finish of 0 more threads\n",
      "2019-12-11 11:09:43,616 : INFO : EPOCH - 17 : training on 19106515 raw words (10000 effective words) took 0.4s, 22765 effective words/s\n",
      "2019-12-11 11:09:43,624 : INFO : worker thread finished; awaiting finish of 2 more threads\n",
      "2019-12-11 11:09:43,634 : INFO : worker thread finished; awaiting finish of 1 more threads\n",
      "2019-12-11 11:09:44,067 : INFO : worker thread finished; awaiting finish of 0 more threads\n",
      "2019-12-11 11:09:44,067 : INFO : EPOCH - 18 : training on 19106515 raw words (10000 effective words) took 0.4s, 22476 effective words/s\n",
      "2019-12-11 11:09:44,081 : INFO : worker thread finished; awaiting finish of 2 more threads\n",
      "2019-12-11 11:09:44,097 : INFO : worker thread finished; awaiting finish of 1 more threads\n",
      "2019-12-11 11:09:44,526 : INFO : worker thread finished; awaiting finish of 0 more threads\n",
      "2019-12-11 11:09:44,529 : INFO : EPOCH - 19 : training on 19106515 raw words (10000 effective words) took 0.4s, 22375 effective words/s\n",
      "2019-12-11 11:09:44,534 : INFO : worker thread finished; awaiting finish of 2 more threads\n",
      "2019-12-11 11:09:44,550 : INFO : worker thread finished; awaiting finish of 1 more threads\n",
      "2019-12-11 11:09:45,025 : INFO : worker thread finished; awaiting finish of 0 more threads\n",
      "2019-12-11 11:09:45,029 : INFO : EPOCH - 20 : training on 19106515 raw words (10000 effective words) took 0.5s, 20301 effective words/s\n"
     ]
    },
    {
     "name": "stderr",
     "output_type": "stream",
     "text": [
      "2019-12-11 11:09:45,053 : INFO : worker thread finished; awaiting finish of 2 more threads\n",
      "2019-12-11 11:09:45,057 : INFO : worker thread finished; awaiting finish of 1 more threads\n",
      "2019-12-11 11:09:45,513 : INFO : worker thread finished; awaiting finish of 0 more threads\n",
      "2019-12-11 11:09:45,513 : INFO : EPOCH - 21 : training on 19106515 raw words (10000 effective words) took 0.5s, 20711 effective words/s\n",
      "2019-12-11 11:09:45,528 : INFO : worker thread finished; awaiting finish of 2 more threads\n",
      "2019-12-11 11:09:45,544 : INFO : worker thread finished; awaiting finish of 1 more threads\n",
      "2019-12-11 11:09:46,062 : INFO : worker thread finished; awaiting finish of 0 more threads\n",
      "2019-12-11 11:09:46,062 : INFO : EPOCH - 22 : training on 19106515 raw words (10000 effective words) took 0.5s, 18850 effective words/s\n",
      "2019-12-11 11:09:46,080 : INFO : worker thread finished; awaiting finish of 2 more threads\n",
      "2019-12-11 11:09:46,095 : INFO : worker thread finished; awaiting finish of 1 more threads\n",
      "2019-12-11 11:09:46,547 : INFO : worker thread finished; awaiting finish of 0 more threads\n",
      "2019-12-11 11:09:46,547 : INFO : EPOCH - 23 : training on 19106515 raw words (10000 effective words) took 0.5s, 21141 effective words/s\n",
      "2019-12-11 11:09:46,563 : INFO : worker thread finished; awaiting finish of 2 more threads\n",
      "2019-12-11 11:09:46,563 : INFO : worker thread finished; awaiting finish of 1 more threads\n",
      "2019-12-11 11:09:46,995 : INFO : worker thread finished; awaiting finish of 0 more threads\n",
      "2019-12-11 11:09:46,995 : INFO : EPOCH - 24 : training on 19106515 raw words (10000 effective words) took 0.4s, 22895 effective words/s\n",
      "2019-12-11 11:09:47,011 : INFO : worker thread finished; awaiting finish of 2 more threads\n",
      "2019-12-11 11:09:47,015 : INFO : worker thread finished; awaiting finish of 1 more threads\n",
      "2019-12-11 11:09:47,458 : INFO : worker thread finished; awaiting finish of 0 more threads\n",
      "2019-12-11 11:09:47,458 : INFO : EPOCH - 25 : training on 19106515 raw words (10000 effective words) took 0.5s, 21946 effective words/s\n",
      "2019-12-11 11:09:47,474 : INFO : worker thread finished; awaiting finish of 2 more threads\n",
      "2019-12-11 11:09:47,482 : INFO : worker thread finished; awaiting finish of 1 more threads\n",
      "2019-12-11 11:09:47,923 : INFO : worker thread finished; awaiting finish of 0 more threads\n",
      "2019-12-11 11:09:47,923 : INFO : EPOCH - 26 : training on 19106515 raw words (10000 effective words) took 0.5s, 21504 effective words/s\n",
      "2019-12-11 11:09:47,938 : INFO : worker thread finished; awaiting finish of 2 more threads\n",
      "2019-12-11 11:09:47,938 : INFO : worker thread finished; awaiting finish of 1 more threads\n",
      "2019-12-11 11:09:48,487 : INFO : worker thread finished; awaiting finish of 0 more threads\n",
      "2019-12-11 11:09:48,487 : INFO : EPOCH - 27 : training on 19106515 raw words (10000 effective words) took 0.6s, 18151 effective words/s\n",
      "2019-12-11 11:09:48,509 : INFO : worker thread finished; awaiting finish of 2 more threads\n",
      "2019-12-11 11:09:48,509 : INFO : worker thread finished; awaiting finish of 1 more threads\n",
      "2019-12-11 11:09:48,926 : INFO : worker thread finished; awaiting finish of 0 more threads\n",
      "2019-12-11 11:09:48,942 : INFO : EPOCH - 28 : training on 19106515 raw words (10000 effective words) took 0.4s, 22748 effective words/s\n",
      "2019-12-11 11:09:48,957 : INFO : worker thread finished; awaiting finish of 2 more threads\n",
      "2019-12-11 11:09:48,957 : INFO : worker thread finished; awaiting finish of 1 more threads\n",
      "2019-12-11 11:09:49,384 : INFO : worker thread finished; awaiting finish of 0 more threads\n",
      "2019-12-11 11:09:49,386 : INFO : EPOCH - 29 : training on 19106515 raw words (10000 effective words) took 0.4s, 23019 effective words/s\n",
      "2019-12-11 11:09:49,401 : INFO : worker thread finished; awaiting finish of 2 more threads\n",
      "2019-12-11 11:09:49,407 : INFO : worker thread finished; awaiting finish of 1 more threads\n",
      "2019-12-11 11:09:49,930 : INFO : worker thread finished; awaiting finish of 0 more threads\n",
      "2019-12-11 11:09:49,930 : INFO : EPOCH - 30 : training on 19106515 raw words (10000 effective words) took 0.5s, 18688 effective words/s\n",
      "2019-12-11 11:09:49,940 : INFO : worker thread finished; awaiting finish of 2 more threads\n",
      "2019-12-11 11:09:49,940 : INFO : worker thread finished; awaiting finish of 1 more threads\n",
      "2019-12-11 11:09:50,351 : INFO : worker thread finished; awaiting finish of 0 more threads\n",
      "2019-12-11 11:09:50,351 : INFO : EPOCH - 31 : training on 19106515 raw words (10000 effective words) took 0.4s, 23665 effective words/s\n",
      "2019-12-11 11:09:50,370 : INFO : worker thread finished; awaiting finish of 2 more threads\n",
      "2019-12-11 11:09:50,385 : INFO : worker thread finished; awaiting finish of 1 more threads\n",
      "2019-12-11 11:09:50,801 : INFO : worker thread finished; awaiting finish of 0 more threads\n",
      "2019-12-11 11:09:50,805 : INFO : EPOCH - 32 : training on 19106515 raw words (10000 effective words) took 0.4s, 23033 effective words/s\n",
      "2019-12-11 11:09:50,817 : INFO : worker thread finished; awaiting finish of 2 more threads\n",
      "2019-12-11 11:09:50,821 : INFO : worker thread finished; awaiting finish of 1 more threads\n",
      "2019-12-11 11:09:51,253 : INFO : worker thread finished; awaiting finish of 0 more threads\n",
      "2019-12-11 11:09:51,253 : INFO : EPOCH - 33 : training on 19106515 raw words (10000 effective words) took 0.4s, 22428 effective words/s\n",
      "2019-12-11 11:09:51,273 : INFO : worker thread finished; awaiting finish of 2 more threads\n",
      "2019-12-11 11:09:51,277 : INFO : worker thread finished; awaiting finish of 1 more threads\n",
      "2019-12-11 11:09:51,712 : INFO : worker thread finished; awaiting finish of 0 more threads\n",
      "2019-12-11 11:09:51,712 : INFO : EPOCH - 34 : training on 19106515 raw words (10000 effective words) took 0.5s, 21655 effective words/s\n",
      "2019-12-11 11:09:51,742 : INFO : worker thread finished; awaiting finish of 2 more threads\n",
      "2019-12-11 11:09:51,746 : INFO : worker thread finished; awaiting finish of 1 more threads\n",
      "2019-12-11 11:09:52,275 : INFO : worker thread finished; awaiting finish of 0 more threads\n",
      "2019-12-11 11:09:52,275 : INFO : EPOCH - 35 : training on 19106515 raw words (10000 effective words) took 0.5s, 18414 effective words/s\n",
      "2019-12-11 11:09:52,287 : INFO : worker thread finished; awaiting finish of 2 more threads\n",
      "2019-12-11 11:09:52,303 : INFO : worker thread finished; awaiting finish of 1 more threads\n",
      "2019-12-11 11:09:52,707 : INFO : worker thread finished; awaiting finish of 0 more threads\n",
      "2019-12-11 11:09:52,707 : INFO : EPOCH - 36 : training on 19106515 raw words (10000 effective words) took 0.4s, 23325 effective words/s\n",
      "2019-12-11 11:09:52,723 : INFO : worker thread finished; awaiting finish of 2 more threads\n",
      "2019-12-11 11:09:52,739 : INFO : worker thread finished; awaiting finish of 1 more threads\n",
      "2019-12-11 11:09:53,158 : INFO : worker thread finished; awaiting finish of 0 more threads\n",
      "2019-12-11 11:09:53,160 : INFO : EPOCH - 37 : training on 19106515 raw words (10000 effective words) took 0.4s, 22894 effective words/s\n",
      "2019-12-11 11:09:53,184 : INFO : worker thread finished; awaiting finish of 2 more threads\n",
      "2019-12-11 11:09:53,188 : INFO : worker thread finished; awaiting finish of 1 more threads\n",
      "2019-12-11 11:09:53,619 : INFO : worker thread finished; awaiting finish of 0 more threads\n",
      "2019-12-11 11:09:53,619 : INFO : EPOCH - 38 : training on 19106515 raw words (10000 effective words) took 0.4s, 22409 effective words/s\n",
      "2019-12-11 11:09:53,635 : INFO : worker thread finished; awaiting finish of 2 more threads\n",
      "2019-12-11 11:09:53,639 : INFO : worker thread finished; awaiting finish of 1 more threads\n",
      "2019-12-11 11:09:54,059 : INFO : worker thread finished; awaiting finish of 0 more threads\n",
      "2019-12-11 11:09:54,059 : INFO : EPOCH - 39 : training on 19106515 raw words (10000 effective words) took 0.4s, 23130 effective words/s\n",
      "2019-12-11 11:09:54,071 : INFO : worker thread finished; awaiting finish of 2 more threads\n",
      "2019-12-11 11:09:54,087 : INFO : worker thread finished; awaiting finish of 1 more threads\n",
      "2019-12-11 11:09:54,514 : INFO : worker thread finished; awaiting finish of 0 more threads\n",
      "2019-12-11 11:09:54,518 : INFO : EPOCH - 40 : training on 19106515 raw words (10000 effective words) took 0.4s, 22417 effective words/s\n",
      "2019-12-11 11:09:54,535 : INFO : worker thread finished; awaiting finish of 2 more threads\n"
     ]
    },
    {
     "name": "stderr",
     "output_type": "stream",
     "text": [
      "2019-12-11 11:09:54,538 : INFO : worker thread finished; awaiting finish of 1 more threads\n",
      "2019-12-11 11:09:55,193 : INFO : worker thread finished; awaiting finish of 0 more threads\n",
      "2019-12-11 11:09:55,193 : INFO : EPOCH - 41 : training on 19106515 raw words (10000 effective words) took 0.7s, 14680 effective words/s\n",
      "2019-12-11 11:09:55,215 : INFO : worker thread finished; awaiting finish of 2 more threads\n",
      "2019-12-11 11:09:55,230 : INFO : worker thread finished; awaiting finish of 1 more threads\n",
      "2019-12-11 11:09:55,736 : INFO : worker thread finished; awaiting finish of 0 more threads\n",
      "2019-12-11 11:09:55,736 : INFO : EPOCH - 42 : training on 19106515 raw words (10000 effective words) took 0.5s, 19093 effective words/s\n",
      "2019-12-11 11:09:55,752 : INFO : worker thread finished; awaiting finish of 2 more threads\n",
      "2019-12-11 11:09:55,768 : INFO : worker thread finished; awaiting finish of 1 more threads\n",
      "2019-12-11 11:09:56,171 : INFO : worker thread finished; awaiting finish of 0 more threads\n",
      "2019-12-11 11:09:56,171 : INFO : EPOCH - 43 : training on 19106515 raw words (10000 effective words) took 0.4s, 23361 effective words/s\n",
      "2019-12-11 11:09:56,187 : INFO : worker thread finished; awaiting finish of 2 more threads\n",
      "2019-12-11 11:09:56,203 : INFO : worker thread finished; awaiting finish of 1 more threads\n",
      "2019-12-11 11:09:56,615 : INFO : worker thread finished; awaiting finish of 0 more threads\n",
      "2019-12-11 11:09:56,615 : INFO : EPOCH - 44 : training on 19106515 raw words (10000 effective words) took 0.4s, 23338 effective words/s\n",
      "2019-12-11 11:09:56,635 : INFO : worker thread finished; awaiting finish of 2 more threads\n",
      "2019-12-11 11:09:56,639 : INFO : worker thread finished; awaiting finish of 1 more threads\n",
      "2019-12-11 11:09:57,075 : INFO : worker thread finished; awaiting finish of 0 more threads\n",
      "2019-12-11 11:09:57,079 : INFO : EPOCH - 45 : training on 19106515 raw words (10000 effective words) took 0.4s, 22239 effective words/s\n",
      "2019-12-11 11:09:57,091 : INFO : worker thread finished; awaiting finish of 2 more threads\n",
      "2019-12-11 11:09:57,099 : INFO : worker thread finished; awaiting finish of 1 more threads\n",
      "2019-12-11 11:09:57,526 : INFO : worker thread finished; awaiting finish of 0 more threads\n",
      "2019-12-11 11:09:57,526 : INFO : EPOCH - 46 : training on 19106515 raw words (10000 effective words) took 0.5s, 22059 effective words/s\n",
      "2019-12-11 11:09:57,542 : INFO : worker thread finished; awaiting finish of 2 more threads\n",
      "2019-12-11 11:09:57,558 : INFO : worker thread finished; awaiting finish of 1 more threads\n",
      "2019-12-11 11:09:57,975 : INFO : worker thread finished; awaiting finish of 0 more threads\n",
      "2019-12-11 11:09:57,975 : INFO : EPOCH - 47 : training on 19106515 raw words (10000 effective words) took 0.4s, 22989 effective words/s\n",
      "2019-12-11 11:09:58,005 : INFO : worker thread finished; awaiting finish of 2 more threads\n",
      "2019-12-11 11:09:58,009 : INFO : worker thread finished; awaiting finish of 1 more threads\n",
      "2019-12-11 11:09:58,409 : INFO : worker thread finished; awaiting finish of 0 more threads\n",
      "2019-12-11 11:09:58,425 : INFO : EPOCH - 48 : training on 19106515 raw words (10000 effective words) took 0.4s, 23344 effective words/s\n",
      "2019-12-11 11:09:58,440 : INFO : worker thread finished; awaiting finish of 2 more threads\n",
      "2019-12-11 11:09:58,440 : INFO : worker thread finished; awaiting finish of 1 more threads\n",
      "2019-12-11 11:09:58,857 : INFO : worker thread finished; awaiting finish of 0 more threads\n",
      "2019-12-11 11:09:58,857 : INFO : EPOCH - 49 : training on 19106515 raw words (10000 effective words) took 0.4s, 23424 effective words/s\n",
      "2019-12-11 11:09:58,872 : INFO : worker thread finished; awaiting finish of 2 more threads\n",
      "2019-12-11 11:09:58,872 : INFO : worker thread finished; awaiting finish of 1 more threads\n",
      "2019-12-11 11:09:59,287 : INFO : worker thread finished; awaiting finish of 0 more threads\n",
      "2019-12-11 11:09:59,291 : INFO : EPOCH - 50 : training on 19106515 raw words (10000 effective words) took 0.4s, 23663 effective words/s\n",
      "2019-12-11 11:09:59,293 : INFO : training on a 955325750 raw words (500000 effective words) took 24.9s, 20083 effective words/s\n"
     ]
    },
    {
     "data": {
      "text/plain": [
       "(500000, 955325750)"
      ]
     },
     "execution_count": 25,
     "metadata": {},
     "output_type": "execute_result"
    }
   ],
   "source": [
    "bgt2vec.train(sentences, total_examples=bgt2vec.corpus_count, epochs=50)"
   ]
  },
  {
   "cell_type": "markdown",
   "metadata": {},
   "source": [
    "**Save to file, can be useful later**"
   ]
  },
  {
   "cell_type": "code",
   "execution_count": 26,
   "metadata": {},
   "outputs": [],
   "source": [
    "if not os.path.exists(\"trained\"):\n",
    "    os.makedirs(\"trained\")"
   ]
  },
  {
   "cell_type": "code",
   "execution_count": 27,
   "metadata": {},
   "outputs": [
    {
     "name": "stderr",
     "output_type": "stream",
     "text": [
      "2019-12-11 11:09:59,510 : INFO : saving Word2Vec object under trained\\bgt2vec.w2v, separately None\n",
      "2019-12-11 11:09:59,527 : INFO : not storing attribute vectors_norm\n",
      "2019-12-11 11:09:59,548 : INFO : not storing attribute cum_table\n",
      "2019-12-11 11:10:02,988 : INFO : saved trained\\bgt2vec.w2v\n"
     ]
    }
   ],
   "source": [
    "bgt2vec.save(os.path.join(\"trained\", \"bgt2vec.w2v\"))"
   ]
  },
  {
   "cell_type": "markdown",
   "metadata": {},
   "source": [
    "## Explore the trained model."
   ]
  },
  {
   "cell_type": "code",
   "execution_count": 28,
   "metadata": {},
   "outputs": [
    {
     "name": "stderr",
     "output_type": "stream",
     "text": [
      "2019-12-11 11:10:03,030 : INFO : loading Word2Vec object from trained\\bgt2vec.w2v\n",
      "2019-12-11 11:10:05,107 : INFO : loading wv recursively from trained\\bgt2vec.w2v.wv.* with mmap=None\n",
      "2019-12-11 11:10:05,111 : INFO : setting ignored attribute vectors_norm to None\n",
      "2019-12-11 11:10:05,111 : INFO : loading vocabulary recursively from trained\\bgt2vec.w2v.vocabulary.* with mmap=None\n",
      "2019-12-11 11:10:05,111 : INFO : loading trainables recursively from trained\\bgt2vec.w2v.trainables.* with mmap=None\n",
      "2019-12-11 11:10:05,115 : INFO : setting ignored attribute cum_table to None\n",
      "2019-12-11 11:10:05,119 : INFO : loaded trained\\bgt2vec.w2v\n"
     ]
    }
   ],
   "source": [
    "bgt2vec = w2v.Word2Vec.load(os.path.join(\"trained\", \"bgt2vec.w2v\"))"
   ]
  },
  {
   "cell_type": "markdown",
   "metadata": {},
   "source": [
    "### Compress the word vectors into 2D space and plot them"
   ]
  },
  {
   "cell_type": "code",
   "execution_count": 29,
   "metadata": {},
   "outputs": [],
   "source": [
    "tsne = sklearn.manifold.TSNE(n_components=2, random_state=0)"
   ]
  },
  {
   "cell_type": "code",
   "execution_count": 30,
   "metadata": {},
   "outputs": [
    {
     "name": "stderr",
     "output_type": "stream",
     "text": [
      "C:\\Users\\Sultan\\Anaconda3\\lib\\site-packages\\ipykernel_launcher.py:1: DeprecationWarning: Call to deprecated `syn0` (Attribute will be removed in 4.0.0, use self.vectors instead).\n",
      "  \"\"\"Entry point for launching an IPython kernel.\n"
     ]
    }
   ],
   "source": [
    "all_word_vectors_matrix = bgt2vec.wv.syn0"
   ]
  },
  {
   "cell_type": "markdown",
   "metadata": {},
   "source": [
    "**Train t-SNE**"
   ]
  },
  {
   "cell_type": "code",
   "execution_count": 31,
   "metadata": {},
   "outputs": [],
   "source": [
    "all_word_vectors_matrix_2d = tsne.fit_transform(all_word_vectors_matrix)"
   ]
  },
  {
   "cell_type": "markdown",
   "metadata": {},
   "source": [
    "**Plot the big picture**"
   ]
  },
  {
   "cell_type": "code",
   "execution_count": 32,
   "metadata": {},
   "outputs": [],
   "source": [
    "points = pd.DataFrame(\n",
    "    [\n",
    "        (word, coords[0], coords[1])\n",
    "        for word, coords in [\n",
    "            (word, all_word_vectors_matrix_2d[bgt2vec.wv.vocab[word].index])\n",
    "            for word in bgt2vec.wv.vocab\n",
    "        ]\n",
    "    ],\n",
    "    columns=[\"word\", \"x\", \"y\"]\n",
    ")"
   ]
  },
  {
   "cell_type": "code",
   "execution_count": 33,
   "metadata": {},
   "outputs": [
    {
     "data": {
      "text/html": [
       "<div>\n",
       "<style scoped>\n",
       "    .dataframe tbody tr th:only-of-type {\n",
       "        vertical-align: middle;\n",
       "    }\n",
       "\n",
       "    .dataframe tbody tr th {\n",
       "        vertical-align: top;\n",
       "    }\n",
       "\n",
       "    .dataframe thead th {\n",
       "        text-align: right;\n",
       "    }\n",
       "</style>\n",
       "<table border=\"1\" class=\"dataframe\">\n",
       "  <thead>\n",
       "    <tr style=\"text-align: right;\">\n",
       "      <th></th>\n",
       "      <th>word</th>\n",
       "      <th>x</th>\n",
       "      <th>y</th>\n",
       "    </tr>\n",
       "  </thead>\n",
       "  <tbody>\n",
       "    <tr>\n",
       "      <td>0</td>\n",
       "      <td>fiscal</td>\n",
       "      <td>-11.437481</td>\n",
       "      <td>-36.145351</td>\n",
       "    </tr>\n",
       "    <tr>\n",
       "      <td>1</td>\n",
       "      <td>year</td>\n",
       "      <td>-11.402778</td>\n",
       "      <td>-36.059891</td>\n",
       "    </tr>\n",
       "    <tr>\n",
       "      <td>2</td>\n",
       "      <td>adopted</td>\n",
       "      <td>-17.709024</td>\n",
       "      <td>-39.304352</td>\n",
       "    </tr>\n",
       "    <tr>\n",
       "      <td>3</td>\n",
       "      <td>budget</td>\n",
       "      <td>-11.669227</td>\n",
       "      <td>-31.599075</td>\n",
       "    </tr>\n",
       "    <tr>\n",
       "      <td>4</td>\n",
       "      <td>brenda</td>\n",
       "      <td>-13.163054</td>\n",
       "      <td>-32.674278</td>\n",
       "    </tr>\n",
       "    <tr>\n",
       "      <td>5</td>\n",
       "      <td>jones</td>\n",
       "      <td>-13.088961</td>\n",
       "      <td>-32.647301</td>\n",
       "    </tr>\n",
       "    <tr>\n",
       "      <td>6</td>\n",
       "      <td>county</td>\n",
       "      <td>-13.468078</td>\n",
       "      <td>-35.686249</td>\n",
       "    </tr>\n",
       "    <tr>\n",
       "      <td>7</td>\n",
       "      <td>manager</td>\n",
       "      <td>-11.438896</td>\n",
       "      <td>-32.583675</td>\n",
       "    </tr>\n",
       "    <tr>\n",
       "      <td>8</td>\n",
       "      <td>sharisse</td>\n",
       "      <td>-12.768707</td>\n",
       "      <td>-32.269840</td>\n",
       "    </tr>\n",
       "    <tr>\n",
       "      <td>9</td>\n",
       "      <td>fuller</td>\n",
       "      <td>-12.710531</td>\n",
       "      <td>-32.217945</td>\n",
       "    </tr>\n",
       "  </tbody>\n",
       "</table>\n",
       "</div>"
      ],
      "text/plain": [
       "       word          x          y\n",
       "0    fiscal -11.437481 -36.145351\n",
       "1      year -11.402778 -36.059891\n",
       "2   adopted -17.709024 -39.304352\n",
       "3    budget -11.669227 -31.599075\n",
       "4    brenda -13.163054 -32.674278\n",
       "5     jones -13.088961 -32.647301\n",
       "6    county -13.468078 -35.686249\n",
       "7   manager -11.438896 -32.583675\n",
       "8  sharisse -12.768707 -32.269840\n",
       "9    fuller -12.710531 -32.217945"
      ]
     },
     "execution_count": 33,
     "metadata": {},
     "output_type": "execute_result"
    }
   ],
   "source": [
    "points.head(10)"
   ]
  },
  {
   "cell_type": "code",
   "execution_count": 34,
   "metadata": {},
   "outputs": [],
   "source": [
    "sns.set_context(\"poster\")"
   ]
  },
  {
   "cell_type": "markdown",
   "metadata": {
    "collapsed": true
   },
   "source": [
    "**Zoom in to some interesting places**"
   ]
  },
  {
   "cell_type": "code",
   "execution_count": 36,
   "metadata": {},
   "outputs": [],
   "source": [
    "def plot_region(x_bounds, y_bounds):\n",
    "    slice = points[\n",
    "        (x_bounds[0] <= points.x) &\n",
    "        (points.x <= x_bounds[1]) & \n",
    "        (y_bounds[0] <= points.y) &\n",
    "        (points.y <= y_bounds[1])\n",
    "    ]\n",
    "    \n",
    "    ax = slice.plot.scatter(\"x\", \"y\", s=35, figsize=(10, 8))\n",
    "    for i, point in slice.iterrows():\n",
    "        ax.text(point.x + 0.005, point.y + 0.005, point.word, fontsize=11)"
   ]
  },
  {
   "cell_type": "markdown",
   "metadata": {},
   "source": [
    "**words related endup together**"
   ]
  },
  {
   "cell_type": "code",
   "execution_count": 37,
   "metadata": {},
   "outputs": [
    {
     "data": {
      "image/png": "[encoded data removed]",
      "text/plain": [
       "<Figure size 720x576 with 1 Axes>"
      ]
     },
     "metadata": {
      "needs_background": "light"
     },
     "output_type": "display_data"
    }
   ],
   "source": [
    "plot_region(x_bounds=(5, 10), y_bounds=(-0.5, -0.1))"
   ]
  },
  {
   "cell_type": "markdown",
   "metadata": {},
   "source": [
    "### Explore semantic similarities between words"
   ]
  },
  {
   "cell_type": "markdown",
   "metadata": {},
   "source": [
    "**Words closest to the given word**"
   ]
  },
  {
   "cell_type": "code",
   "execution_count": 38,
   "metadata": {},
   "outputs": [
    {
     "name": "stderr",
     "output_type": "stream",
     "text": [
      "C:\\Users\\Sultan\\Anaconda3\\lib\\site-packages\\ipykernel_launcher.py:1: DeprecationWarning: Call to deprecated `most_similar` (Method will be removed in 4.0.0, use self.wv.most_similar() instead).\n",
      "  \"\"\"Entry point for launching an IPython kernel.\n",
      "2019-12-11 12:16:26,141 : INFO : precomputing L2-norms of word weight vectors\n"
     ]
    },
    {
     "data": {
      "text/plain": [
       "[('technical', 0.7925680875778198),\n",
       " ('making', 0.7882285118103027),\n",
       " ('attached', 0.7857143878936768),\n",
       " ('ordained', 0.7799639105796814),\n",
       " ('profile', 0.7693620324134827),\n",
       " ('mobility', 0.768927812576294),\n",
       " ('nine', 0.7650311589241028),\n",
       " ('external', 0.7636074423789978),\n",
       " ('healththe', 0.76360023021698),\n",
       " ('operation', 0.762910783290863)]"
      ]
     },
     "execution_count": 38,
     "metadata": {},
     "output_type": "execute_result"
    }
   ],
   "source": [
    "bgt2vec.most_similar(\"guilford\")"
   ]
  },
  {
   "cell_type": "code",
   "execution_count": 39,
   "metadata": {},
   "outputs": [
    {
     "name": "stderr",
     "output_type": "stream",
     "text": [
      "C:\\Users\\Sultan\\Anaconda3\\lib\\site-packages\\ipykernel_launcher.py:1: DeprecationWarning: Call to deprecated `most_similar` (Method will be removed in 4.0.0, use self.wv.most_similar() instead).\n",
      "  \"\"\"Entry point for launching an IPython kernel.\n"
     ]
    },
    {
     "data": {
      "text/plain": [
       "[('fiscal', 0.8832362294197083),\n",
       " ('close', 0.834098219871521),\n",
       " ('begins', 0.8308687210083008),\n",
       " ('colleges', 0.8279870748519897),\n",
       " ('certified', 0.824294924736023),\n",
       " ('adopt', 0.8232169151306152),\n",
       " ('accountant', 0.8225964307785034),\n",
       " ('subdivisions', 0.81988924741745),\n",
       " ('independently', 0.8144859671592712),\n",
       " ('projections', 0.8140947222709656)]"
      ]
     },
     "execution_count": 39,
     "metadata": {},
     "output_type": "execute_result"
    }
   ],
   "source": [
    "bgt2vec.most_similar(\"year\")"
   ]
  },
  {
   "cell_type": "markdown",
   "metadata": {},
   "source": [
    "**Linear relationships between word pairs**"
   ]
  },
  {
   "cell_type": "code",
   "execution_count": 40,
   "metadata": {},
   "outputs": [],
   "source": [
    "def nearest_similarity_cosmul(start1, end1, end2):\n",
    "    similarities = bgt2vec.most_similar_cosmul(\n",
    "        positive=[end2, start1],\n",
    "        negative=[end1]\n",
    "    )\n",
    "    start2 = similarities[0][0]\n",
    "    print(\"{start1} is related to {end1}, as {start2} is related to {end2}\".format(**locals()))\n",
    "    return start2"
   ]
  },
  {
   "cell_type": "code",
   "execution_count": 41,
   "metadata": {},
   "outputs": [
    {
     "name": "stdout",
     "output_type": "stream",
     "text": [
      "guilford is related to county, as fiscal is related to year\n"
     ]
    },
    {
     "name": "stderr",
     "output_type": "stream",
     "text": [
      "C:\\Users\\Sultan\\Anaconda3\\lib\\site-packages\\ipykernel_launcher.py:4: DeprecationWarning: Call to deprecated `most_similar_cosmul` (Method will be removed in 4.0.0, use self.wv.most_similar_cosmul() instead).\n",
      "  after removing the cwd from sys.path.\n"
     ]
    },
    {
     "data": {
      "text/plain": [
       "'fiscal'"
      ]
     },
     "execution_count": 41,
     "metadata": {},
     "output_type": "execute_result"
    }
   ],
   "source": [
    "nearest_similarity_cosmul(\"guilford\",\"county\",\"year\")"
   ]
  },
  {
   "cell_type": "code",
   "execution_count": null,
   "metadata": {},
   "outputs": [],
   "source": []
  }
 ],
 "metadata": {
  "kernelspec": {
   "display_name": "Python 3",
   "language": "python",
   "name": "python3"
  },
  "language_info": {
   "codemirror_mode": {
    "name": "ipython",
    "version": 3
   },
   "file_extension": ".py",
   "mimetype": "text/x-python",
   "name": "python",
   "nbconvert_exporter": "python",
   "pygments_lexer": "ipython3",
   "version": "3.7.4"
  }
 },
 "nbformat": 4,
 "nbformat_minor": 1
}
